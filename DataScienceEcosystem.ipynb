{
 "cells": [
  {
   "cell_type": "markdown",
   "id": "de687140-c20b-4cce-95fe-2ef0ea289166",
   "metadata": {},
   "source": [
    "# Data Science Tools and Ecosystem"
   ]
  },
  {
   "cell_type": "code",
   "execution_count": null,
   "id": "696de8f9-dea0-4e04-86ac-c93d5c21c71f",
   "metadata": {},
   "outputs": [],
   "source": []
  },
  {
   "cell_type": "markdown",
   "id": "03aa78f9-6c13-4181-8828-d11fe3b7cca2",
   "metadata": {},
   "source": [
    "### Introduction"
   ]
  },
  {
   "cell_type": "markdown",
   "id": "6280867a-808a-4553-aa50-cfcaa00b9bd8",
   "metadata": {},
   "source": [
    "In this notebook, Data Science Tools and Ecosystem are summarized."
   ]
  },
  {
   "cell_type": "markdown",
   "id": "42e32ec2-e1d7-4938-bda0-4c6d0f0635f8",
   "metadata": {},
   "source": [
    "### Some of the popular languages that Data Scientists use are:"
   ]
  },
  {
   "cell_type": "markdown",
   "id": "1c32f399-432c-4991-a003-7d7c380fa6fd",
   "metadata": {},
   "source": [
    "1. R\n",
    "2. SQL (Structured Query Language)\n",
    "3. Python"
   ]
  },
  {
   "cell_type": "markdown",
   "id": "6c19c3ae-51e8-4a9b-a6a4-5ba7fc652a65",
   "metadata": {},
   "source": [
    "### Some of the commonly used libraries used by Data Scientists include:"
   ]
  },
  {
   "cell_type": "markdown",
   "id": "75699500-22da-481a-8ff0-04017fd3f355",
   "metadata": {},
   "source": [
    "1. Pandas\n",
    "2. Numpy\n",
    "3. Matplotlib\n",
    "4. Seaborn\n",
    "\n",
    "\n"
   ]
  },
  {
   "cell_type": "markdown",
   "id": "ae932931-9eba-425f-89d0-804fd2dfa80b",
   "metadata": {},
   "source": [
    " ## Introducing arithmetic expression examples"
   ]
  },
  {
   "cell_type": "markdown",
   "id": "aeb11dea-0f91-43cb-bee4-daded64f606b",
   "metadata": {},
   "source": [
    "### Below are a few examples of evaluating arithmetic expressions in Python"
   ]
  },
  {
   "cell_type": "code",
   "execution_count": null,
   "id": "f307d346-61e7-4460-990e-8481f373c95c",
   "metadata": {},
   "outputs": [],
   "source": [
    "# This a simple arithmetic expression to mutiply then add integers"
   ]
  },
  {
   "cell_type": "code",
   "execution_count": 1,
   "id": "42b7e4e4-153e-44bb-bcd7-85c0dce12ce3",
   "metadata": {
    "tags": []
   },
   "outputs": [
    {
     "data": {
      "text/plain": [
       "17"
      ]
     },
     "execution_count": 1,
     "metadata": {},
     "output_type": "execute_result"
    }
   ],
   "source": [
    "(3*4)+5"
   ]
  },
  {
   "cell_type": "code",
   "execution_count": 4,
   "id": "8fb56501-00fe-4245-a63e-8ae13d054194",
   "metadata": {
    "tags": []
   },
   "outputs": [
    {
     "data": {
      "text/plain": [
       "3.3333333333333335"
      ]
     },
     "execution_count": 4,
     "metadata": {},
     "output_type": "execute_result"
    }
   ],
   "source": [
    "# This will convert 200 minutes to hours by diving by 60\n",
    "\n",
    "200/60"
   ]
  },
  {
   "cell_type": "markdown",
   "id": "c3168893-109e-409d-9914-6893fc85cfad",
   "metadata": {},
   "source": [
    " # __Objectives__"
   ]
  },
  {
   "cell_type": "markdown",
   "id": "dc4d3486-4891-4d0f-b020-1f40e60b45b6",
   "metadata": {},
   "source": [
    "* Popular languages that datascientists use\n",
    "* Commonly used libraries in datascience\n",
    "* Arithmetic expression examples"
   ]
  },
  {
   "cell_type": "markdown",
   "id": "d11c6135-4cef-45d8-9f33-c38129bde2bc",
   "metadata": {
    "tags": []
   },
   "source": [
    "## __AUTHOR__"
   ]
  },
  {
   "cell_type": "markdown",
   "id": "95c27027-d867-463b-8acd-1789bda2d1e3",
   "metadata": {},
   "source": [
    "Shruti Padmanabha"
   ]
  },
  {
   "cell_type": "code",
   "execution_count": null,
   "id": "5285f1a3-5dec-4a5f-860c-2f0d059ae22b",
   "metadata": {},
   "outputs": [],
   "source": []
  }
 ],
 "metadata": {
  "kernelspec": {
   "display_name": "Python",
   "language": "python",
   "name": "conda-env-python-py"
  },
  "language_info": {
   "codemirror_mode": {
    "name": "ipython",
    "version": 3
   },
   "file_extension": ".py",
   "mimetype": "text/x-python",
   "name": "python",
   "nbconvert_exporter": "python",
   "pygments_lexer": "ipython3",
   "version": "3.7.12"
  }
 },
 "nbformat": 4,
 "nbformat_minor": 5
}
